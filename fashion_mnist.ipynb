{
  "cells": [
    {
      "cell_type": "markdown",
      "metadata": {
        "collapsed": false,
        "id": "XDDbguyGU8Fs"
      },
      "source": [
        "# Mid-semester assignment Part 2 - Basics of deep learning\n",
        "Hello dear students,<br> this is the template notebook. Please upload it into your drive and open as Google Colab nootebook\".\n",
        "\n",
        "---\n",
        "<br>\n",
        "\n",
        "### Name and ID:\n",
        "Student 1: Ori Malca 315150599\n",
        "<br>\n",
        "Student 2: Kfir Sitalkil 208722660"
      ]
    },
    {
      "cell_type": "markdown",
      "metadata": {
        "id": "JLkWLC8f3HZI"
      },
      "source": [
        "## Fashion MNIST with Keras\n",
        "Fashion MNIST dataset contains 70,000 grayscale images in 10 categories. The images show individual articles of clothing at low resolution (28 by 28 pixels), as seen here:\n",
        "\n",
        "<table>\n",
        "  <tr><td>\n",
        "    <img src=\"https://cloudxlab.com/blog/wp-content/uploads/2019/06/Tensorflow_Keras.png\"\n",
        "         alt=\"Fashion MNIST sprite\"  width=\"600\">\n",
        "  </td></tr>\n",
        "  \n",
        "</table>\n"
      ]
    },
    {
      "cell_type": "markdown",
      "metadata": {
        "id": "WiRxNFCn3Vxd"
      },
      "source": [
        "Loading the dataset returns four NumPy arrays:\n",
        "\n",
        "* The `train_images` and `train_labels` arrays are the *training set*—the data the model uses to learn.\n",
        "* The model is tested against the *test set*, the `test_images`, and `test_labels` arrays.\n",
        "\n",
        "The images are 28x28 NumPy arrays, with pixel values ranging between 0 and 255. The *labels* are an array of integers, ranging from 0 to 9. These correspond to the *class* of clothing the image represents:\n",
        "\n",
        "<table>\n",
        "  <tr>\n",
        "    <th>Label</th>\n",
        "    <th>Class</th>\n",
        "  </tr>\n",
        "  <tr>\n",
        "    <td>0</td>\n",
        "    <td>T-shirt/top</td>\n",
        "  </tr>\n",
        "  <tr>\n",
        "    <td>1</td>\n",
        "    <td>Trouser</td>\n",
        "  </tr>\n",
        "    <tr>\n",
        "    <td>2</td>\n",
        "    <td>Pullover</td>\n",
        "  </tr>\n",
        "    <tr>\n",
        "    <td>3</td>\n",
        "    <td>Dress</td>\n",
        "  </tr>\n",
        "    <tr>\n",
        "    <td>4</td>\n",
        "    <td>Coat</td>\n",
        "  </tr>\n",
        "    <tr>\n",
        "    <td>5</td>\n",
        "    <td>Sandal</td>\n",
        "  </tr>\n",
        "    <tr>\n",
        "    <td>6</td>\n",
        "    <td>Shirt</td>\n",
        "  </tr>\n",
        "    <tr>\n",
        "    <td>7</td>\n",
        "    <td>Sneaker</td>\n",
        "  </tr>\n",
        "    <tr>\n",
        "    <td>8</td>\n",
        "    <td>Bag</td>\n",
        "  </tr>\n",
        "    <tr>\n",
        "    <td>9</td>\n",
        "    <td>Ankle boot</td>\n",
        "  </tr>\n",
        "</table>\n",
        "\n",
        "<br>\n",
        "\n",
        "# Goodluck!"
      ]
    },
    {
      "cell_type": "markdown",
      "metadata": {
        "collapsed": false,
        "id": "EU8d54pEU8GF"
      },
      "source": [
        "# Neural Network with Tensorflow Keras part 1 (Binary Classification)"
      ]
    },
    {
      "cell_type": "markdown",
      "metadata": {
        "id": "UPCSaccR32De"
      },
      "source": [
        "## Import Libraries"
      ]
    },
    {
      "cell_type": "code",
      "execution_count": null,
      "metadata": {
        "id": "RyvoZdAXU8GG"
      },
      "outputs": [],
      "source": [
        "import tensorflow as tf\n",
        "from tensorflow import keras\n",
        "from keras.datasets import mnist\n",
        "import matplotlib.pyplot as plt\n",
        "import numpy as np\n",
        "from keras.preprocessing.image import ImageDataGenerator"
      ]
    },
    {
      "cell_type": "markdown",
      "metadata": {
        "id": "Q1WPjPPR6Wpr"
      },
      "source": [
        "## Load Dataset"
      ]
    },
    {
      "cell_type": "code",
      "execution_count": null,
      "metadata": {
        "colab": {
          "base_uri": "https://localhost:8080/",
          "height": 265
        },
        "id": "xSM3px5EU8GG",
        "outputId": "1ba41441-afbd-45fc-cdc9-fa6126d110cf"
      },
      "outputs": [
        {
          "output_type": "display_data",
          "data": {
            "text/plain": [
              "<Figure size 432x288 with 1 Axes>"
            ],
            "image/png": "[encoded data removed]"
          },
          "metadata": {
            "needs_background": "light"
          }
        }
      ],
      "source": [
        "fashion_mnist = keras.datasets.fashion_mnist\n",
        "\n",
        "(X_train, y_train), (X_test, y_test) = fashion_mnist.load_data()\n",
        "plt.imshow(X_train[1])\n",
        "plt.show()"
      ]
    },
    {
      "cell_type": "code",
      "execution_count": null,
      "metadata": {
        "colab": {
          "base_uri": "https://localhost:8080/"
        },
        "id": "4pir3k1OzU_u",
        "outputId": "b4ac99c2-d41f-48da-b915-2abb2c0aa93d"
      },
      "outputs": [
        {
          "output_type": "stream",
          "name": "stdout",
          "text": [
            "Drive already mounted at /content/drive; to attempt to forcibly remount, call drive.mount(\"/content/drive\", force_remount=True).\n"
          ]
        }
      ],
      "source": [
        "from google.colab import drive\n",
        "drive.mount('/content/drive')"
      ]
    },
    {
      "cell_type": "markdown",
      "metadata": {
        "collapsed": false,
        "id": "6Sm0udbSU8GG"
      },
      "source": [
        "## Data preprocessing"
      ]
    },
    {
      "cell_type": "markdown",
      "metadata": {
        "collapsed": false,
        "id": "ZZAUfLmVU8GH"
      },
      "source": [
        "\n",
        "\n",
        "```\n",
        "# This is formatted as code\n",
        "```\n",
        "\n",
        "### Feature scaling"
      ]
    },
    {
      "cell_type": "code",
      "execution_count": null,
      "metadata": {
        "id": "hzqQphx7U8GH"
      },
      "outputs": [],
      "source": [
        "x_train = X_train.reshape(60000, 784)\n",
        "x_test = X_test.reshape(10000, 784)\n",
        "x_train = x_train.astype('float32')\n",
        "x_test = x_test.astype('float32')\n",
        "x_train /= 255\n",
        "x_test /= 255"
      ]
    },
    {
      "cell_type": "markdown",
      "metadata": {
        "id": "YSzvJ196GkvO"
      },
      "source": [
        "### Select two classes"
      ]
    },
    {
      "cell_type": "markdown",
      "metadata": {
        "id": "MgdiS-jnNSvW"
      },
      "source": [
        "#### Selected idexes for two classes (T-shirt = 0, Sneaker = 7)"
      ]
    },
    {
      "cell_type": "code",
      "execution_count": null,
      "metadata": {
        "id": "yjpHGlrmGlbe"
      },
      "outputs": [],
      "source": [
        "index_train = np.where((y_train == 0) | (y_train == 7))\n",
        "index_test = np.where((y_test == 0) | (y_test == 7))"
      ]
    },
    {
      "cell_type": "markdown",
      "metadata": {
        "id": "kOo4ULTUORHV"
      },
      "source": [
        "#### extract the two desired classes by their indexes"
      ]
    },
    {
      "cell_type": "code",
      "execution_count": null,
      "metadata": {
        "id": "w_umRthrOULR"
      },
      "outputs": [],
      "source": [
        "x_train = x_train[index_train[0],:]\n",
        "y_train = y_train[index_train[0]]\n",
        "x_test = x_test[index_test[0],:]\n",
        "y_test = y_test[index_test[0]]"
      ]
    },
    {
      "cell_type": "markdown",
      "metadata": {
        "id": "b0fv9YVROZz3"
      },
      "source": [
        "#### Change all labels from 7 to 1 (T-shirt = 0, sneaker = 1)"
      ]
    },
    {
      "cell_type": "code",
      "execution_count": null,
      "metadata": {
        "id": "rSthIwvLOilF"
      },
      "outputs": [],
      "source": [
        "y_train[y_train == 7] = 1\n",
        "y_test[y_test == 7] = 1"
      ]
    },
    {
      "cell_type": "markdown",
      "metadata": {
        "id": "5uDtXrt5PZtA"
      },
      "source": [
        "#### The current shape of the data set:"
      ]
    },
    {
      "cell_type": "code",
      "execution_count": null,
      "metadata": {
        "colab": {
          "base_uri": "https://localhost:8080/"
        },
        "id": "_d0qM5GxPbFB",
        "outputId": "ae492c1e-5ff8-47ce-d676-189681c8455e"
      },
      "outputs": [
        {
          "output_type": "stream",
          "name": "stdout",
          "text": [
            "x_train: (12000, 784)\n",
            "y_train: (12000,)\n",
            "x_test: (2000, 784)\n",
            "y_test: (2000,)\n"
          ]
        }
      ],
      "source": [
        "print(f'x_train: {x_train.shape}\\ny_train: {y_train.shape}\\nx_test: {x_test.shape}\\ny_test: {y_test.shape}')"
      ]
    },
    {
      "cell_type": "code",
      "execution_count": null,
      "metadata": {
        "colab": {
          "base_uri": "https://localhost:8080/",
          "height": 266
        },
        "id": "nbQz4wbJPifx",
        "outputId": "5bd61d41-3a05-4db3-86fe-99a4189859bf"
      },
      "outputs": [
        {
          "output_type": "display_data",
          "data": {
            "text/plain": [
              "<Figure size 432x288 with 1 Axes>"
            ],
            "image/png": "[encoded data removed]"
          },
          "metadata": {
            "needs_background": "light"
          }
        },
        {
          "output_type": "execute_result",
          "data": {
            "text/plain": [
              "0"
            ]
          },
          "metadata": {},
          "execution_count": 9
        }
      ],
      "source": [
        "import matplotlib\n",
        "plt.imshow(x_train[0].reshape(28,28), cmap = matplotlib.cm.binary)\n",
        "plt.axis(\"off\")\n",
        "plt.show()\n",
        "y_train[0]"
      ]
    },
    {
      "cell_type": "markdown",
      "metadata": {
        "collapsed": false,
        "id": "FlCtN7Y-U8GH"
      },
      "source": [
        "\n",
        "We need to convert 1-dimensional class arrays to multi-dimensional class matrices<br>\n",
        "\n",
        "\n",
        "`np_utils.to_categorical` is used to convert array of labeled data(from 0 to nb_classes - 1) to one-hot vector.<br>\n",
        "Read about np_utils here: https://www.tensorflow.org/api_docs/python/tf/keras/utils/to_categorical"
      ]
    },
    {
      "cell_type": "code",
      "execution_count": null,
      "metadata": {
        "id": "PrJ6v0ACU8GI"
      },
      "outputs": [],
      "source": [
        "from keras.utils import np_utils\n",
        "num_classes = 2\n",
        "y_train = np_utils.to_categorical(y_train, num_classes)\n",
        "y_test = np_utils.to_categorical(y_test, num_classes)"
      ]
    },
    {
      "cell_type": "markdown",
      "metadata": {
        "collapsed": false,
        "id": "jwIzE9kSU8GI"
      },
      "source": [
        "### Build the network layers\n",
        "Read about Fully connected layers in keras here: https://www.tensorflow.org/api_docs/python/tf/keras/layers/Dense"
      ]
    },
    {
      "cell_type": "code",
      "execution_count": null,
      "metadata": {
        "id": "U3IepEv6U8GI"
      },
      "outputs": [],
      "source": [
        "from keras.models import Sequential\n",
        "from keras.layers import Flatten, Dense\n",
        "\n",
        "model = Sequential()\n",
        "# WRITE YOUR CODE HERE\n",
        "model.add(Dense(784, activation='sigmoid', kernel_initializer='he_uniform', input_shape=(784,)))\n",
        "model.add(Dense(2, activation='sigmoid', kernel_initializer='he_uniform'))"
      ]
    },
    {
      "cell_type": "markdown",
      "metadata": {
        "collapsed": false,
        "id": "VH6cuNVOU8GJ"
      },
      "source": [
        "\n",
        "### Build the Optimizer\n",
        "Read about the Optimizer here: https://keras.io/api/optimizers/"
      ]
    },
    {
      "cell_type": "code",
      "execution_count": null,
      "metadata": {
        "id": "2Xndbe19U8GJ"
      },
      "outputs": [],
      "source": [
        "from keras.optimizers import SGD\n",
        "opt = SGD(learning_rate=0.001)"
      ]
    },
    {
      "cell_type": "markdown",
      "metadata": {
        "id": "_x8OkbTlFMVy"
      },
      "source": [
        "### compile the model"
      ]
    },
    {
      "cell_type": "code",
      "execution_count": null,
      "metadata": {
        "colab": {
          "base_uri": "https://localhost:8080/"
        },
        "id": "Fo75PFc6FOA5",
        "outputId": "56a33fce-1e7b-45f6-dea9-b227e649b003"
      },
      "outputs": [
        {
          "output_type": "stream",
          "name": "stdout",
          "text": [
            "(None, 2)\n"
          ]
        }
      ],
      "source": [
        "model.compile(optimizer=opt, loss='categorical_crossentropy', metrics=['accuracy'])\n",
        "print(model.output_shape)"
      ]
    },
    {
      "cell_type": "markdown",
      "metadata": {
        "collapsed": false,
        "id": "c7kXhHkoU8GJ"
      },
      "source": [
        "### Training\n",
        "Use the fit method to train your model, then store the results within the variable \"history\".\n"
      ]
    },
    {
      "cell_type": "code",
      "execution_count": null,
      "metadata": {
        "colab": {
          "base_uri": "https://localhost:8080/"
        },
        "id": "Sq1KOMEeU8GJ",
        "outputId": "3b476591-a956-48ce-fca3-932345e30f95"
      },
      "outputs": [
        {
          "output_type": "stream",
          "name": "stdout",
          "text": [
            "Epoch 1/5\n",
            "300/300 [==============================] - 3s 6ms/step - loss: 0.4723 - accuracy: 0.9000 - val_loss: 0.3133 - val_accuracy: 0.9796\n",
            "Epoch 2/5\n",
            "300/300 [==============================] - 2s 6ms/step - loss: 0.2516 - accuracy: 0.9796 - val_loss: 0.1981 - val_accuracy: 0.9875\n",
            "Epoch 3/5\n",
            "300/300 [==============================] - 2s 6ms/step - loss: 0.1736 - accuracy: 0.9872 - val_loss: 0.1460 - val_accuracy: 0.9917\n",
            "Epoch 4/5\n",
            "300/300 [==============================] - 2s 5ms/step - loss: 0.1339 - accuracy: 0.9904 - val_loss: 0.1162 - val_accuracy: 0.9937\n",
            "Epoch 5/5\n",
            "300/300 [==============================] - 2s 5ms/step - loss: 0.1097 - accuracy: 0.9925 - val_loss: 0.0969 - val_accuracy: 0.9954\n"
          ]
        }
      ],
      "source": [
        "history = model.fit(x_train, y_train, epochs=5, batch_size=32, validation_split=0.2, verbose=1)"
      ]
    },
    {
      "cell_type": "markdown",
      "metadata": {
        "id": "zS3_ZnXk450S"
      },
      "source": [
        "### Save Trained model (weights)\n",
        "Read about Save and load models in tensorflow.keras here: [https://www.tensorflow.org/tutorials/keras/save_and_load](https://www.tensorflow.org/tutorials/keras/save_and_load)\n"
      ]
    },
    {
      "cell_type": "code",
      "execution_count": null,
      "metadata": {
        "id": "Pb66kyHa5c-l"
      },
      "outputs": [],
      "source": [
        "# SAVE THE TRAINED MODEL\n",
        "!mkdir -p /content/drive/MyDrive/saved_model\n",
        "model.save('/content/drive/MyDrive/saved_model/binary_model')"
      ]
    },
    {
      "cell_type": "markdown",
      "metadata": {
        "collapsed": false,
        "id": "bkNYD1oRU8GK"
      },
      "source": [
        "### Loss and Accuracy Visualization\n",
        "Show  on plot the lose during training"
      ]
    },
    {
      "cell_type": "code",
      "execution_count": null,
      "metadata": {
        "colab": {
          "base_uri": "https://localhost:8080/",
          "height": 295
        },
        "id": "iM8si3EBU8GK",
        "outputId": "96d8a950-6aad-48af-a427-5c5c547a2f2b"
      },
      "outputs": [
        {
          "output_type": "display_data",
          "data": {
            "text/plain": [
              "<Figure size 432x288 with 1 Axes>"
            ],
            "image/png": "[encoded data removed]"
          },
          "metadata": {
            "needs_background": "light"
          }
        }
      ],
      "source": [
        "import matplotlib.pyplot as plt\n",
        "plt.plot(history.history['loss'])\n",
        "plt.plot(history.history['val_loss'])\n",
        "plt.title('model loss')\n",
        "plt.ylabel('loss')\n",
        "plt.xlabel('epoch')\n",
        "plt.legend(['train', 'val'], loc='upper left')\n",
        "plt.show()"
      ]
    },
    {
      "cell_type": "markdown",
      "metadata": {
        "collapsed": false,
        "id": "w4JBO5zuU8GK"
      },
      "source": [
        "Show  on plot the accuracy during training"
      ]
    },
    {
      "cell_type": "code",
      "execution_count": null,
      "metadata": {
        "colab": {
          "base_uri": "https://localhost:8080/",
          "height": 295
        },
        "id": "hOCsxuuTU8GK",
        "outputId": "db3e2cfe-52d0-46dd-cda3-54f900b45e2c"
      },
      "outputs": [
        {
          "output_type": "display_data",
          "data": {
            "text/plain": [
              "<Figure size 432x288 with 1 Axes>"
            ],
            "image/png": "[encoded data removed]"
          },
          "metadata": {
            "needs_background": "light"
          }
        }
      ],
      "source": [
        "# WRITE YOUR CODE HERE\n",
        "plt.plot(history.history['accuracy'])\n",
        "plt.plot(history.history['val_accuracy'])\n",
        "plt.title('model accuracy')\n",
        "plt.ylabel('accuracy')\n",
        "plt.xlabel('epoch')\n",
        "plt.legend(['train', 'val'], loc='upper left')\n",
        "plt.show()"
      ]
    },
    {
      "cell_type": "markdown",
      "metadata": {
        "collapsed": false,
        "id": "SAUlD1ypU8GL"
      },
      "source": [
        "### Test\n",
        "Test your model (Show accuracy by comparing the prediction VS the test label)"
      ]
    },
    {
      "cell_type": "code",
      "execution_count": null,
      "metadata": {
        "colab": {
          "base_uri": "https://localhost:8080/"
        },
        "id": "rukB7UefU8GL",
        "outputId": "ac561328-c505-4627-f19d-6267e606d3fa"
      },
      "outputs": [
        {
          "output_type": "stream",
          "name": "stdout",
          "text": [
            "63/63 [==============================] - 0s 3ms/step\n"
          ]
        },
        {
          "output_type": "execute_result",
          "data": {
            "text/plain": [
              "0.986"
            ]
          },
          "metadata": {},
          "execution_count": 18
        }
      ],
      "source": [
        "from sklearn.metrics import accuracy_score\n",
        "y_pred = model.predict(x_test)\n",
        "# WRITE YOUR CODE HERE\n",
        "y_pred = (y_pred > 0.5)\n",
        "accuracy_score(y_test, y_pred)"
      ]
    },
    {
      "cell_type": "markdown",
      "metadata": {
        "collapsed": false,
        "id": "ClevveJ3U8GL"
      },
      "source": [
        "### Model Evaluation\n",
        "Show the model evaluation by presenting the confusion metrix in a representative way<br>\n",
        "Read about confusion metrix visualization here: https://scikit-learn.org/stable/auto_examples/model_selection/plot_confusion_matrix.html"
      ]
    },
    {
      "cell_type": "code",
      "execution_count": null,
      "metadata": {
        "colab": {
          "base_uri": "https://localhost:8080/"
        },
        "id": "KHQVaRZKU8GL",
        "outputId": "d1ba88a5-e6e5-4270-9fe1-bc46f598bc47"
      },
      "outputs": [
        {
          "output_type": "stream",
          "name": "stdout",
          "text": [
            "[[993   7]\n",
            " [  1 999]]\n"
          ]
        }
      ],
      "source": [
        "from sklearn.metrics import confusion_matrix, ConfusionMatrixDisplay\n",
        "import itertools\n",
        "# WRITE YOUR CODE HERE\n",
        "cm = confusion_matrix(y_test.argmax(axis=1), y_pred.argmax(axis=1))\n",
        "print(cm)"
      ]
    },
    {
      "cell_type": "markdown",
      "source": [
        "#### Classification report"
      ],
      "metadata": {
        "id": "T6S3YSl9cVkd"
      }
    },
    {
      "cell_type": "code",
      "source": [
        "from sklearn.metrics import classification_report\n",
        "print(classification_report(y_test,y_pred))"
      ],
      "metadata": {
        "id": "5Aielh09cYxp",
        "colab": {
          "base_uri": "https://localhost:8080/"
        },
        "outputId": "07b20923-7fcb-49e5-f5c4-6bc87eb5179a"
      },
      "execution_count": null,
      "outputs": [
        {
          "output_type": "stream",
          "name": "stdout",
          "text": [
            "              precision    recall  f1-score   support\n",
            "\n",
            "           0       1.00      0.97      0.99      1000\n",
            "           1       0.99      1.00      1.00      1000\n",
            "\n",
            "   micro avg       1.00      0.99      0.99      2000\n",
            "   macro avg       1.00      0.99      0.99      2000\n",
            "weighted avg       1.00      0.99      0.99      2000\n",
            " samples avg       0.99      0.99      0.99      2000\n",
            "\n"
          ]
        },
        {
          "output_type": "stream",
          "name": "stderr",
          "text": [
            "/usr/local/lib/python3.8/dist-packages/sklearn/metrics/_classification.py:1318: UndefinedMetricWarning: Precision and F-score are ill-defined and being set to 0.0 in samples with no predicted labels. Use `zero_division` parameter to control this behavior.\n",
            "  _warn_prf(average, modifier, msg_start, len(result))\n"
          ]
        }
      ]
    },
    {
      "cell_type": "markdown",
      "metadata": {
        "id": "s6_ug9JLjmM8"
      },
      "source": [
        "---\n",
        "<br>\n",
        "\n",
        "\n",
        "# Neural Network with Tensorflow Keras part 2 (Multiclass Classification)"
      ]
    },
    {
      "cell_type": "markdown",
      "metadata": {
        "id": "Dn9kBnoOkJ7B"
      },
      "source": [
        "## Import Libraries"
      ]
    },
    {
      "cell_type": "code",
      "execution_count": null,
      "metadata": {
        "id": "0L5QXTC5kK9F"
      },
      "outputs": [],
      "source": [
        "import tensorflow as tf\n",
        "from tensorflow import keras\n",
        "from keras.datasets import mnist\n",
        "import matplotlib.pyplot as plt"
      ]
    },
    {
      "cell_type": "markdown",
      "metadata": {
        "id": "pcLzuIa3kOQ_"
      },
      "source": [
        "## Load Dataset"
      ]
    },
    {
      "cell_type": "code",
      "execution_count": null,
      "metadata": {
        "colab": {
          "base_uri": "https://localhost:8080/",
          "height": 265
        },
        "id": "B0z91q_6kUPh",
        "outputId": "a4a83214-c764-44e5-fbdc-65ed44c6060b"
      },
      "outputs": [
        {
          "output_type": "display_data",
          "data": {
            "text/plain": [
              "<Figure size 432x288 with 1 Axes>"
            ],
            "image/png": "[encoded data removed]"
          },
          "metadata": {
            "needs_background": "light"
          }
        }
      ],
      "source": [
        "fashion_mnist = keras.datasets.fashion_mnist\n",
        "\n",
        "(X_train, y_train), (X_test, y_test) = fashion_mnist.load_data()\n",
        "plt.imshow(X_train[1])\n",
        "plt.show()"
      ]
    },
    {
      "cell_type": "markdown",
      "metadata": {
        "id": "Zcr6QaXFkmI4"
      },
      "source": [
        "### The rest you will have to create yourself..."
      ]
    },
    {
      "cell_type": "markdown",
      "metadata": {
        "id": "aRSAP7VUEAzU"
      },
      "source": [
        "## Data preprocessing"
      ]
    },
    {
      "cell_type": "markdown",
      "metadata": {
        "id": "QkL3xISpEBnp"
      },
      "source": [
        "### Feature scaling"
      ]
    },
    {
      "cell_type": "code",
      "execution_count": null,
      "metadata": {
        "id": "WrRef6pFEKRn"
      },
      "outputs": [],
      "source": [
        "x_train = X_train.reshape(60000, 784)\n",
        "x_test = X_test.reshape(10000, 784)\n",
        "x_train = x_train.astype('float32')\n",
        "x_test = x_test.astype('float32')\n",
        "x_train /= 255\n",
        "x_test /= 255"
      ]
    },
    {
      "cell_type": "markdown",
      "metadata": {
        "id": "yej2Z0zKEY5q"
      },
      "source": [
        "#### The current shape of the data set:"
      ]
    },
    {
      "cell_type": "code",
      "execution_count": null,
      "metadata": {
        "colab": {
          "base_uri": "https://localhost:8080/"
        },
        "id": "Xa6bQ1STEeZa",
        "outputId": "65eb871a-fd30-41bb-be83-682987702a5f"
      },
      "outputs": [
        {
          "output_type": "stream",
          "name": "stdout",
          "text": [
            "x_train: (60000, 784)\n",
            "y_train: (60000,)\n",
            "x_test: (10000, 784)\n",
            "y_test: (10000,)\n"
          ]
        }
      ],
      "source": [
        "print(f'x_train: {x_train.shape}\\ny_train: {y_train.shape}\\nx_test: {x_test.shape}\\ny_test: {y_test.shape}')"
      ]
    },
    {
      "cell_type": "code",
      "execution_count": null,
      "metadata": {
        "colab": {
          "base_uri": "https://localhost:8080/",
          "height": 266
        },
        "id": "vPOMFLH7EjGs",
        "outputId": "e84cea83-872d-4b3a-8ba9-de1022a043f3"
      },
      "outputs": [
        {
          "output_type": "display_data",
          "data": {
            "text/plain": [
              "<Figure size 432x288 with 1 Axes>"
            ],
            "image/png": "[encoded data removed]"
          },
          "metadata": {
            "needs_background": "light"
          }
        },
        {
          "output_type": "execute_result",
          "data": {
            "text/plain": [
              "9"
            ]
          },
          "metadata": {},
          "execution_count": 25
        }
      ],
      "source": [
        "import matplotlib\n",
        "plt.imshow(x_train[0].reshape(28,28), cmap = matplotlib.cm.binary)\n",
        "plt.axis(\"off\")\n",
        "plt.show()\n",
        "y_train[0]"
      ]
    },
    {
      "cell_type": "markdown",
      "metadata": {
        "id": "9_1AydGjE3cH"
      },
      "source": [
        "convert 1-dimensional class arrays to multi-dimensional class matrices<br>"
      ]
    },
    {
      "cell_type": "code",
      "execution_count": null,
      "metadata": {
        "id": "LsLUHWcCE4al"
      },
      "outputs": [],
      "source": [
        "from keras.utils import np_utils\n",
        "num_classes = 10\n",
        "y_train = np_utils.to_categorical(y_train, num_classes)\n",
        "y_test = np_utils.to_categorical(y_test, num_classes)"
      ]
    },
    {
      "cell_type": "markdown",
      "metadata": {
        "id": "xMTvB9TolhcG"
      },
      "source": [
        "## Models"
      ]
    },
    {
      "cell_type": "markdown",
      "metadata": {
        "id": "rOqJ_9CGk3h9"
      },
      "source": [
        "### Base Model"
      ]
    },
    {
      "cell_type": "markdown",
      "metadata": {
        "id": "SBDqa9IMFpGo"
      },
      "source": [
        "#### Build the model"
      ]
    },
    {
      "cell_type": "code",
      "execution_count": null,
      "metadata": {
        "id": "LXzT4foEFxsr"
      },
      "outputs": [],
      "source": [
        "from keras.models import Sequential\n",
        "from keras.layers import Flatten, Dense\n",
        "\n",
        "model = Sequential()\n",
        "# WRITE YOUR CODE HERE\n",
        "model.add(Dense(784, activation='sigmoid', kernel_initializer='he_uniform', input_shape=(784,)))\n",
        "model.add(Dense(10, activation='softmax', kernel_initializer='he_uniform'))"
      ]
    },
    {
      "cell_type": "markdown",
      "metadata": {
        "id": "E9j9GRF_F_zD"
      },
      "source": [
        "#### Build the Optimizer"
      ]
    },
    {
      "cell_type": "code",
      "execution_count": null,
      "metadata": {
        "id": "U-Kw9rslGF1X"
      },
      "outputs": [],
      "source": [
        "from keras.optimizers import SGD\n",
        "opt = SGD(learning_rate=0.001)"
      ]
    },
    {
      "cell_type": "markdown",
      "metadata": {
        "id": "OR_LjsuxGGnm"
      },
      "source": [
        "#### Compile the model"
      ]
    },
    {
      "cell_type": "code",
      "execution_count": null,
      "metadata": {
        "colab": {
          "base_uri": "https://localhost:8080/"
        },
        "id": "U973V1yeGMpi",
        "outputId": "bd3a44c9-d5ff-484c-86af-1a75dd711040"
      },
      "outputs": [
        {
          "output_type": "stream",
          "name": "stdout",
          "text": [
            "(None, 10)\n"
          ]
        }
      ],
      "source": [
        "model.compile(optimizer=opt, loss='categorical_crossentropy', metrics=['accuracy'])\n",
        "print(model.output_shape)"
      ]
    },
    {
      "cell_type": "markdown",
      "metadata": {
        "id": "eYbBFkNJG0SC"
      },
      "source": [
        "#### Training"
      ]
    },
    {
      "cell_type": "code",
      "execution_count": null,
      "metadata": {
        "colab": {
          "base_uri": "https://localhost:8080/"
        },
        "id": "zpORy0EnG4tO",
        "outputId": "4f84bb05-c849-40f0-879a-e1e0407f0c9b"
      },
      "outputs": [
        {
          "output_type": "stream",
          "name": "stdout",
          "text": [
            "Epoch 1/5\n",
            "1500/1500 [==============================] - 8s 5ms/step - loss: 2.0117 - accuracy: 0.4660 - val_loss: 1.7309 - val_accuracy: 0.6064\n",
            "Epoch 2/5\n",
            "1500/1500 [==============================] - 5s 3ms/step - loss: 1.5533 - accuracy: 0.6763 - val_loss: 1.3974 - val_accuracy: 0.7010\n",
            "Epoch 3/5\n",
            "1500/1500 [==============================] - 5s 3ms/step - loss: 1.2977 - accuracy: 0.7042 - val_loss: 1.2005 - val_accuracy: 0.7151\n",
            "Epoch 4/5\n",
            "1500/1500 [==============================] - 6s 4ms/step - loss: 1.1411 - accuracy: 0.7175 - val_loss: 1.0743 - val_accuracy: 0.7224\n",
            "Epoch 5/5\n",
            "1500/1500 [==============================] - 5s 3ms/step - loss: 1.0369 - accuracy: 0.7259 - val_loss: 0.9884 - val_accuracy: 0.7335\n"
          ]
        }
      ],
      "source": [
        "history = model.fit(x_train, y_train, epochs=5, batch_size=32, validation_split=0.2, verbose=1)"
      ]
    },
    {
      "cell_type": "markdown",
      "metadata": {
        "collapsed": false,
        "id": "L2-eNLAmOSsN"
      },
      "source": [
        "#### Loss and Accuracy Visualization\n",
        "Show  on plot the lose during training"
      ]
    },
    {
      "cell_type": "code",
      "execution_count": null,
      "metadata": {
        "colab": {
          "base_uri": "https://localhost:8080/",
          "height": 295
        },
        "id": "Rx7tIhQFOSsN",
        "outputId": "5c897e48-c1df-46d3-d7e1-f8fdaaaa5070"
      },
      "outputs": [
        {
          "output_type": "display_data",
          "data": {
            "text/plain": [
              "<Figure size 432x288 with 1 Axes>"
            ],
            "image/png": "[encoded data removed]"
          },
          "metadata": {
            "needs_background": "light"
          }
        }
      ],
      "source": [
        "import matplotlib.pyplot as plt\n",
        "plt.plot(history.history['loss'])\n",
        "plt.plot(history.history['val_loss'])\n",
        "plt.title('model loss')\n",
        "plt.ylabel('loss')\n",
        "plt.xlabel('epoch')\n",
        "plt.legend(['train', 'val'], loc='upper left')\n",
        "plt.show()"
      ]
    },
    {
      "cell_type": "markdown",
      "metadata": {
        "collapsed": false,
        "id": "wsG2jbflOSsO"
      },
      "source": [
        "Show  on plot the accuracy during training"
      ]
    },
    {
      "cell_type": "code",
      "execution_count": null,
      "metadata": {
        "colab": {
          "base_uri": "https://localhost:8080/",
          "height": 295
        },
        "id": "RHtkOC36OSsO",
        "outputId": "637a5a2d-e8e8-49cf-b1d3-58ee597d8389"
      },
      "outputs": [
        {
          "output_type": "display_data",
          "data": {
            "text/plain": [
              "<Figure size 432x288 with 1 Axes>"
            ],
            "image/png": "[encoded data removed]"
          },
          "metadata": {
            "needs_background": "light"
          }
        }
      ],
      "source": [
        "# WRITE YOUR CODE HERE\n",
        "plt.plot(history.history['accuracy'])\n",
        "plt.plot(history.history['val_accuracy'])\n",
        "plt.title('model accuracy')\n",
        "plt.ylabel('accuracy')\n",
        "plt.xlabel('epoch')\n",
        "plt.legend(['train', 'val'], loc='upper left')\n",
        "plt.show()"
      ]
    },
    {
      "cell_type": "markdown",
      "metadata": {
        "collapsed": false,
        "id": "TjZfLFv8Olhc"
      },
      "source": [
        "#### Test\n",
        "Test your model (Show accuracy by comparing the prediction VS the test label)"
      ]
    },
    {
      "cell_type": "code",
      "execution_count": null,
      "metadata": {
        "colab": {
          "base_uri": "https://localhost:8080/"
        },
        "id": "g3IbDYjROlhc",
        "outputId": "a1a5bd04-9045-4182-f43e-2726de78d56c"
      },
      "outputs": [
        {
          "output_type": "stream",
          "name": "stdout",
          "text": [
            "313/313 [==============================] - 1s 2ms/step\n"
          ]
        },
        {
          "output_type": "execute_result",
          "data": {
            "text/plain": [
              "0.3648"
            ]
          },
          "metadata": {},
          "execution_count": 33
        }
      ],
      "source": [
        "from sklearn.metrics import accuracy_score\n",
        "y_pred = model.predict(x_test)\n",
        "# WRITE YOUR CODE HERE\n",
        "y_pred = (y_pred > 0.5)\n",
        "accuracy_score(y_test, y_pred)"
      ]
    },
    {
      "cell_type": "markdown",
      "metadata": {
        "collapsed": false,
        "id": "qU1GhLpUOzTd"
      },
      "source": [
        "#### Model Evaluation\n",
        "Show the model evaluation by presenting the confusion metrix in a representative way<br>\n",
        "Read about confusion metrix visualization here: https://scikit-learn.org/stable/auto_examples/model_selection/plot_confusion_matrix.html"
      ]
    },
    {
      "cell_type": "code",
      "execution_count": null,
      "metadata": {
        "colab": {
          "base_uri": "https://localhost:8080/"
        },
        "id": "0qJswm9FOzTd",
        "outputId": "e9d14789-a847-455d-e45c-d095c74f8e9a"
      },
      "outputs": [
        {
          "output_type": "stream",
          "name": "stdout",
          "text": [
            "[[992   0   0   4   0   2   0   0   2   0]\n",
            " [241 755   0   4   0   0   0   0   0   0]\n",
            " [923   0  71   0   6   0   0   0   0   0]\n",
            " [673   0   0 327   0   0   0   0   0   0]\n",
            " [973   0   4   2  21   0   0   0   0   0]\n",
            " [618   0   0   0   0 330   0  33   0  19]\n",
            " [987   0   4   3   2   0   0   0   4   0]\n",
            " [346   0   0   0   0   7   0 623   0  24]\n",
            " [509   0   0   0   0   0   0   3 488   0]\n",
            " [237   0   0   0   0   0   0  21   0 742]]\n"
          ]
        }
      ],
      "source": [
        "from sklearn.metrics import confusion_matrix, ConfusionMatrixDisplay\n",
        "import itertools\n",
        "# WRITE YOUR CODE HERE\n",
        "cm = confusion_matrix(y_test.argmax(axis=1), y_pred.argmax(axis=1))\n",
        "print(cm)"
      ]
    },
    {
      "cell_type": "markdown",
      "source": [
        "#### Classification report"
      ],
      "metadata": {
        "id": "MbFpXPiddGie"
      }
    },
    {
      "cell_type": "code",
      "source": [
        "from sklearn.metrics import classification_report\n",
        "print(classification_report(y_test,y_pred))"
      ],
      "metadata": {
        "colab": {
          "base_uri": "https://localhost:8080/"
        },
        "outputId": "1c80acc0-c43a-4e17-9483-d8743b530a8f",
        "id": "NC4D1f1gdGie"
      },
      "execution_count": null,
      "outputs": [
        {
          "output_type": "stream",
          "name": "stdout",
          "text": [
            "              precision    recall  f1-score   support\n",
            "\n",
            "           0       0.94      0.29      0.44      1000\n",
            "           1       1.00      0.76      0.86      1000\n",
            "           2       0.90      0.07      0.13      1000\n",
            "           3       0.96      0.33      0.49      1000\n",
            "           4       0.72      0.02      0.04      1000\n",
            "           5       0.97      0.33      0.49      1000\n",
            "           6       0.00      0.00      0.00      1000\n",
            "           7       0.92      0.62      0.74      1000\n",
            "           8       0.99      0.49      0.65      1000\n",
            "           9       0.95      0.74      0.83      1000\n",
            "\n",
            "   micro avg       0.96      0.36      0.53     10000\n",
            "   macro avg       0.83      0.36      0.47     10000\n",
            "weighted avg       0.83      0.36      0.47     10000\n",
            " samples avg       0.36      0.36      0.36     10000\n",
            "\n"
          ]
        },
        {
          "output_type": "stream",
          "name": "stderr",
          "text": [
            "/usr/local/lib/python3.8/dist-packages/sklearn/metrics/_classification.py:1318: UndefinedMetricWarning: Precision and F-score are ill-defined and being set to 0.0 in labels with no predicted samples. Use `zero_division` parameter to control this behavior.\n",
            "  _warn_prf(average, modifier, msg_start, len(result))\n",
            "/usr/local/lib/python3.8/dist-packages/sklearn/metrics/_classification.py:1318: UndefinedMetricWarning: Precision and F-score are ill-defined and being set to 0.0 in samples with no predicted labels. Use `zero_division` parameter to control this behavior.\n",
            "  _warn_prf(average, modifier, msg_start, len(result))\n"
          ]
        }
      ]
    },
    {
      "cell_type": "markdown",
      "metadata": {
        "id": "eKieQwhOlA3m"
      },
      "source": [
        "### Experiment number 1"
      ]
    },
    {
      "cell_type": "markdown",
      "metadata": {
        "id": "LvgiCG1IH0M6"
      },
      "source": [
        "#### Build the model"
      ]
    },
    {
      "cell_type": "code",
      "execution_count": null,
      "metadata": {
        "id": "NCPYPkS8H0M6"
      },
      "outputs": [],
      "source": [
        "from keras.models import Sequential\n",
        "from keras.layers import Flatten, Dense\n",
        "\n",
        "model = Sequential()\n",
        "# WRITE YOUR CODE HERE\n",
        "model.add(Dense(784, activation='relu', kernel_initializer='he_uniform', input_shape=(784,)))\n",
        "model.add(Dense(128,activation='relu', kernel_initializer='he_uniform'))\n",
        "model.add(Dense(10, activation='softmax', kernel_initializer='he_uniform'))"
      ]
    },
    {
      "cell_type": "markdown",
      "metadata": {
        "id": "L2JlJr-zH0M7"
      },
      "source": [
        "#### Build the Optimizer"
      ]
    },
    {
      "cell_type": "code",
      "execution_count": null,
      "metadata": {
        "id": "qHo8MNa-H0M7"
      },
      "outputs": [],
      "source": [
        "from keras.optimizers import SGD\n",
        "opt = SGD(learning_rate=0.001)"
      ]
    },
    {
      "cell_type": "markdown",
      "metadata": {
        "id": "8Jc0JkvvH0M7"
      },
      "source": [
        "#### Compile the model"
      ]
    },
    {
      "cell_type": "code",
      "execution_count": null,
      "metadata": {
        "colab": {
          "base_uri": "https://localhost:8080/"
        },
        "id": "A7V2vI_tH0M7",
        "outputId": "efb4a2ed-b92f-4930-b7d3-664a626a0a04"
      },
      "outputs": [
        {
          "output_type": "stream",
          "name": "stdout",
          "text": [
            "(None, 10)\n"
          ]
        }
      ],
      "source": [
        "model.compile(optimizer=opt, loss='categorical_crossentropy', metrics=['accuracy'])\n",
        "print(model.output_shape)"
      ]
    },
    {
      "cell_type": "markdown",
      "metadata": {
        "id": "iywfc9GYH0M7"
      },
      "source": [
        "#### Training"
      ]
    },
    {
      "cell_type": "code",
      "execution_count": null,
      "metadata": {
        "colab": {
          "base_uri": "https://localhost:8080/"
        },
        "id": "Vg3VtTmcH0M8",
        "outputId": "af927710-6a3b-462e-b8e5-ad92b82cdeec"
      },
      "outputs": [
        {
          "output_type": "stream",
          "name": "stdout",
          "text": [
            "Epoch 1/5\n",
            "1875/1875 [==============================] - 7s 3ms/step - loss: 1.1534 - accuracy: 0.6540 - val_loss: 0.7997 - val_accuracy: 0.7498\n",
            "Epoch 2/5\n",
            "1875/1875 [==============================] - 6s 3ms/step - loss: 0.7016 - accuracy: 0.7790 - val_loss: 0.6555 - val_accuracy: 0.7911\n",
            "Epoch 3/5\n",
            "1875/1875 [==============================] - 6s 3ms/step - loss: 0.6055 - accuracy: 0.8072 - val_loss: 0.5984 - val_accuracy: 0.8022\n",
            "Epoch 4/5\n",
            "1875/1875 [==============================] - 6s 3ms/step - loss: 0.5563 - accuracy: 0.8191 - val_loss: 0.5654 - val_accuracy: 0.8109\n",
            "Epoch 5/5\n",
            "1875/1875 [==============================] - 6s 3ms/step - loss: 0.5255 - accuracy: 0.8269 - val_loss: 0.5348 - val_accuracy: 0.8213\n"
          ]
        }
      ],
      "source": [
        "history = model.fit(x_train, y_train, epochs=5, batch_size=32, validation_data=(x_test,y_test), verbose=1)"
      ]
    },
    {
      "cell_type": "markdown",
      "metadata": {
        "collapsed": false,
        "id": "4MWgBT0lPPZE"
      },
      "source": [
        "#### Loss and Accuracy Visualization\n",
        "Show  on plot the lose during training"
      ]
    },
    {
      "cell_type": "code",
      "execution_count": null,
      "metadata": {
        "colab": {
          "base_uri": "https://localhost:8080/",
          "height": 295
        },
        "id": "UlTQ4qibPPZF",
        "outputId": "9622f998-77db-48e5-ee68-9180b490ea66"
      },
      "outputs": [
        {
          "output_type": "display_data",
          "data": {
            "text/plain": [
              "<Figure size 432x288 with 1 Axes>"
            ],
            "image/png": "[encoded data removed]"
          },
          "metadata": {
            "needs_background": "light"
          }
        }
      ],
      "source": [
        "import matplotlib.pyplot as plt\n",
        "plt.plot(history.history['loss'])\n",
        "plt.plot(history.history['val_loss'])\n",
        "plt.title('model loss')\n",
        "plt.ylabel('loss')\n",
        "plt.xlabel('epoch')\n",
        "plt.legend(['train', 'val'], loc='upper left')\n",
        "plt.show()"
      ]
    },
    {
      "cell_type": "markdown",
      "metadata": {
        "collapsed": false,
        "id": "keqQMrUUPPZF"
      },
      "source": [
        "Show  on plot the accuracy during training"
      ]
    },
    {
      "cell_type": "code",
      "execution_count": null,
      "metadata": {
        "colab": {
          "base_uri": "https://localhost:8080/",
          "height": 295
        },
        "id": "qZVx2TyTPPZF",
        "outputId": "fbd111e3-38b0-40c7-94f1-f261b1aff024"
      },
      "outputs": [
        {
          "output_type": "display_data",
          "data": {
            "text/plain": [
              "<Figure size 432x288 with 1 Axes>"
            ],
            "image/png": "[encoded data removed]"
          },
          "metadata": {
            "needs_background": "light"
          }
        }
      ],
      "source": [
        "# WRITE YOUR CODE HERE\n",
        "plt.plot(history.history['accuracy'])\n",
        "plt.plot(history.history['val_accuracy'])\n",
        "plt.title('model accuracy')\n",
        "plt.ylabel('accuracy')\n",
        "plt.xlabel('epoch')\n",
        "plt.legend(['train', 'val'], loc='upper left')\n",
        "plt.show()"
      ]
    },
    {
      "cell_type": "markdown",
      "metadata": {
        "collapsed": false,
        "id": "CKPbi8pUPXkX"
      },
      "source": [
        "#### Test\n",
        "Test your model (Show accuracy by comparing the prediction VS the test label)"
      ]
    },
    {
      "cell_type": "code",
      "execution_count": null,
      "metadata": {
        "colab": {
          "base_uri": "https://localhost:8080/"
        },
        "id": "4CRS7xv4PXkY",
        "outputId": "3ebed020-2242-4223-fffc-5ac8b9422af5"
      },
      "outputs": [
        {
          "output_type": "stream",
          "name": "stdout",
          "text": [
            "313/313 [==============================] - 1s 2ms/step\n"
          ]
        },
        {
          "output_type": "execute_result",
          "data": {
            "text/plain": [
              "0.7469"
            ]
          },
          "metadata": {},
          "execution_count": 42
        }
      ],
      "source": [
        "from sklearn.metrics import accuracy_score\n",
        "y_pred = model.predict(x_test)\n",
        "# WRITE YOUR CODE HERE\n",
        "y_pred = (y_pred > 0.5)\n",
        "accuracy_score(y_test, y_pred)"
      ]
    },
    {
      "cell_type": "markdown",
      "metadata": {
        "collapsed": false,
        "id": "KMssQ9qePcNq"
      },
      "source": [
        "#### Model Evaluation\n",
        "Show the model evaluation by presenting the confusion metrix in a representative way<br>\n",
        "Read about confusion metrix visualization here: https://scikit-learn.org/stable/auto_examples/model_selection/plot_confusion_matrix.html"
      ]
    },
    {
      "cell_type": "code",
      "execution_count": null,
      "metadata": {
        "colab": {
          "base_uri": "https://localhost:8080/"
        },
        "id": "Cd7F0A4kPcNq",
        "outputId": "1cea898a-6370-4e96-939f-a96d3828b894"
      },
      "outputs": [
        {
          "output_type": "stream",
          "name": "stdout",
          "text": [
            "[[910   3   4  34   3   1  34   0  11   0]\n",
            " [ 40 924   7  24   4   0   0   0   1   0]\n",
            " [269   0 599   5  93   0  29   0   5   0]\n",
            " [198   9   1 760  16   0  14   0   2   0]\n",
            " [255   2  58  22 639   0  19   0   5   0]\n",
            " [ 85   0   0   0   0 837   0  51   2  25]\n",
            " [501   1  86  20  78   0 295   0  19   0]\n",
            " [ 47   0   0   0   0  24   0 877   0  52]\n",
            " [ 76   1   8   3   1   3   9   7 892   0]\n",
            " [ 20   0   0   1   0   9   0  46   1 923]]\n"
          ]
        }
      ],
      "source": [
        "from sklearn.metrics import confusion_matrix, ConfusionMatrixDisplay\n",
        "import itertools\n",
        "# WRITE YOUR CODE HERE\n",
        "cm = confusion_matrix(y_test.argmax(axis=1), y_pred.argmax(axis=1))\n",
        "print(cm)"
      ]
    },
    {
      "cell_type": "markdown",
      "source": [
        "#### Classification report"
      ],
      "metadata": {
        "id": "LWKo_pbKdIm_"
      }
    },
    {
      "cell_type": "code",
      "source": [
        "from sklearn.metrics import classification_report\n",
        "print(classification_report(y_test,y_pred))"
      ],
      "metadata": {
        "colab": {
          "base_uri": "https://localhost:8080/"
        },
        "outputId": "67b7d5bf-aa70-49b3-9bd3-6bb0bdfd11a3",
        "id": "BEoNv3F_dIm_"
      },
      "execution_count": null,
      "outputs": [
        {
          "output_type": "stream",
          "name": "stdout",
          "text": [
            "              precision    recall  f1-score   support\n",
            "\n",
            "           0       0.82      0.72      0.77      1000\n",
            "           1       0.98      0.92      0.95      1000\n",
            "           2       0.79      0.60      0.68      1000\n",
            "           3       0.87      0.76      0.81      1000\n",
            "           4       0.77      0.64      0.70      1000\n",
            "           5       0.96      0.84      0.89      1000\n",
            "           6       0.74      0.29      0.42      1000\n",
            "           7       0.89      0.88      0.89      1000\n",
            "           8       0.95      0.89      0.92      1000\n",
            "           9       0.92      0.92      0.92      1000\n",
            "\n",
            "   micro avg       0.88      0.75      0.81     10000\n",
            "   macro avg       0.87      0.75      0.80     10000\n",
            "weighted avg       0.87      0.75      0.80     10000\n",
            " samples avg       0.75      0.75      0.75     10000\n",
            "\n"
          ]
        },
        {
          "output_type": "stream",
          "name": "stderr",
          "text": [
            "/usr/local/lib/python3.8/dist-packages/sklearn/metrics/_classification.py:1318: UndefinedMetricWarning: Precision and F-score are ill-defined and being set to 0.0 in samples with no predicted labels. Use `zero_division` parameter to control this behavior.\n",
            "  _warn_prf(average, modifier, msg_start, len(result))\n"
          ]
        }
      ]
    },
    {
      "cell_type": "markdown",
      "metadata": {
        "id": "SK-L3P-XlDSQ"
      },
      "source": [
        "### Experiment number 2"
      ]
    },
    {
      "cell_type": "markdown",
      "metadata": {
        "id": "sYXODntNJNBy"
      },
      "source": [
        "#### Build the model"
      ]
    },
    {
      "cell_type": "code",
      "execution_count": null,
      "metadata": {
        "id": "Y9GByLBUJNBy"
      },
      "outputs": [],
      "source": [
        "from keras.models import Sequential\n",
        "from keras.layers import Flatten, Dense\n",
        "\n",
        "model = Sequential()\n",
        "# WRITE YOUR CODE HERE\n",
        "model.add(Dense(784, activation='relu', kernel_initializer='he_uniform', input_shape=(784,)))\n",
        "model.add(Dense(512,activation='relu', kernel_initializer='he_uniform'))\n",
        "model.add(Dense(10, activation='softmax', kernel_initializer='he_uniform'))"
      ]
    },
    {
      "cell_type": "markdown",
      "metadata": {
        "id": "_meHofhfJNBy"
      },
      "source": [
        "#### Build the Optimizer"
      ]
    },
    {
      "cell_type": "code",
      "execution_count": null,
      "metadata": {
        "id": "JjyGkH_UJNBy"
      },
      "outputs": [],
      "source": [
        "from keras.optimizers import Adam\n",
        "opt = Adam(learning_rate=0.001)"
      ]
    },
    {
      "cell_type": "markdown",
      "metadata": {
        "id": "sXlRI_OJJNBy"
      },
      "source": [
        "#### Compile the model"
      ]
    },
    {
      "cell_type": "code",
      "execution_count": null,
      "metadata": {
        "colab": {
          "base_uri": "https://localhost:8080/"
        },
        "id": "gV0zCL5JJNBz",
        "outputId": "59512745-70e1-46f5-faef-b0720511bee4"
      },
      "outputs": [
        {
          "output_type": "stream",
          "name": "stdout",
          "text": [
            "(None, 10)\n"
          ]
        }
      ],
      "source": [
        "model.compile(optimizer=opt, loss='categorical_crossentropy', metrics=['accuracy'])\n",
        "print(model.output_shape)"
      ]
    },
    {
      "cell_type": "markdown",
      "metadata": {
        "id": "Fovu5TZjJNBz"
      },
      "source": [
        "#### Training"
      ]
    },
    {
      "cell_type": "code",
      "execution_count": null,
      "metadata": {
        "colab": {
          "base_uri": "https://localhost:8080/"
        },
        "id": "Xz0R7LigJNBz",
        "outputId": "e35e7603-58d7-4752-914b-476b08659820"
      },
      "outputs": [
        {
          "output_type": "stream",
          "name": "stdout",
          "text": [
            "Epoch 1/15\n",
            "469/469 [==============================] - 2s 5ms/step - loss: 0.4641 - accuracy: 0.8332 - val_loss: 0.3866 - val_accuracy: 0.8615\n",
            "Epoch 2/15\n",
            "469/469 [==============================] - 2s 4ms/step - loss: 0.3448 - accuracy: 0.8737 - val_loss: 0.3569 - val_accuracy: 0.8704\n",
            "Epoch 3/15\n",
            "469/469 [==============================] - 2s 4ms/step - loss: 0.3068 - accuracy: 0.8859 - val_loss: 0.3624 - val_accuracy: 0.8735\n",
            "Epoch 4/15\n",
            "469/469 [==============================] - 2s 4ms/step - loss: 0.2857 - accuracy: 0.8932 - val_loss: 0.3430 - val_accuracy: 0.8761\n",
            "Epoch 5/15\n",
            "469/469 [==============================] - 2s 4ms/step - loss: 0.2660 - accuracy: 0.9009 - val_loss: 0.3309 - val_accuracy: 0.8840\n",
            "Epoch 6/15\n",
            "469/469 [==============================] - 2s 4ms/step - loss: 0.2513 - accuracy: 0.9054 - val_loss: 0.3263 - val_accuracy: 0.8819\n",
            "Epoch 7/15\n",
            "469/469 [==============================] - 2s 4ms/step - loss: 0.2377 - accuracy: 0.9107 - val_loss: 0.3422 - val_accuracy: 0.8788\n",
            "Epoch 8/15\n",
            "469/469 [==============================] - 2s 4ms/step - loss: 0.2261 - accuracy: 0.9144 - val_loss: 0.3318 - val_accuracy: 0.8866\n",
            "Epoch 9/15\n",
            "469/469 [==============================] - 2s 4ms/step - loss: 0.2169 - accuracy: 0.9178 - val_loss: 0.3338 - val_accuracy: 0.8824\n",
            "Epoch 10/15\n",
            "469/469 [==============================] - 2s 4ms/step - loss: 0.2064 - accuracy: 0.9208 - val_loss: 0.3270 - val_accuracy: 0.8844\n",
            "Epoch 11/15\n",
            "469/469 [==============================] - 2s 4ms/step - loss: 0.1960 - accuracy: 0.9247 - val_loss: 0.3544 - val_accuracy: 0.8910\n",
            "Epoch 12/15\n",
            "469/469 [==============================] - 2s 4ms/step - loss: 0.1878 - accuracy: 0.9283 - val_loss: 0.3549 - val_accuracy: 0.8877\n",
            "Epoch 13/15\n",
            "469/469 [==============================] - 2s 4ms/step - loss: 0.1807 - accuracy: 0.9308 - val_loss: 0.3495 - val_accuracy: 0.8819\n",
            "Epoch 14/15\n",
            "469/469 [==============================] - 2s 4ms/step - loss: 0.1711 - accuracy: 0.9344 - val_loss: 0.3674 - val_accuracy: 0.8859\n",
            "Epoch 15/15\n",
            "469/469 [==============================] - 2s 5ms/step - loss: 0.1664 - accuracy: 0.9359 - val_loss: 0.3552 - val_accuracy: 0.8939\n"
          ]
        }
      ],
      "source": [
        "history = model.fit(x_train, y_train, epochs=15, batch_size=128, validation_data=(x_test,y_test), verbose=1)"
      ]
    },
    {
      "cell_type": "markdown",
      "metadata": {
        "collapsed": false,
        "id": "hvU4Iku7Ph8p"
      },
      "source": [
        "#### Loss and Accuracy Visualization\n",
        "Show  on plot the lose during training"
      ]
    },
    {
      "cell_type": "code",
      "execution_count": null,
      "metadata": {
        "colab": {
          "base_uri": "https://localhost:8080/",
          "height": 295
        },
        "id": "iWun-lRjPh8p",
        "outputId": "a60bbbb3-1541-4958-a69a-84d986a0a306"
      },
      "outputs": [
        {
          "output_type": "display_data",
          "data": {
            "text/plain": [
              "<Figure size 432x288 with 1 Axes>"
            ],
            "image/png": "[encoded data removed]"
          },
          "metadata": {
            "needs_background": "light"
          }
        }
      ],
      "source": [
        "import matplotlib.pyplot as plt\n",
        "plt.plot(history.history['loss'])\n",
        "plt.plot(history.history['val_loss'])\n",
        "plt.title('model loss')\n",
        "plt.ylabel('loss')\n",
        "plt.xlabel('epoch')\n",
        "plt.legend(['train', 'val'], loc='upper left')\n",
        "plt.show()"
      ]
    },
    {
      "cell_type": "markdown",
      "metadata": {
        "collapsed": false,
        "id": "hLnsmVnIPh8p"
      },
      "source": [
        "Show  on plot the accuracy during training"
      ]
    },
    {
      "cell_type": "code",
      "execution_count": null,
      "metadata": {
        "colab": {
          "base_uri": "https://localhost:8080/",
          "height": 295
        },
        "id": "L298HDAmPh8p",
        "outputId": "5bba7ef2-4398-452d-f161-e95f6dcb7f24"
      },
      "outputs": [
        {
          "output_type": "display_data",
          "data": {
            "text/plain": [
              "<Figure size 432x288 with 1 Axes>"
            ],
            "image/png": "[encoded data removed]"
          },
          "metadata": {
            "needs_background": "light"
          }
        }
      ],
      "source": [
        "# WRITE YOUR CODE HERE\n",
        "plt.plot(history.history['accuracy'])\n",
        "plt.plot(history.history['val_accuracy'])\n",
        "plt.title('model accuracy')\n",
        "plt.ylabel('accuracy')\n",
        "plt.xlabel('epoch')\n",
        "plt.legend(['train', 'val'], loc='upper left')\n",
        "plt.show()"
      ]
    },
    {
      "cell_type": "markdown",
      "metadata": {
        "collapsed": false,
        "id": "8um9fv5iPm3t"
      },
      "source": [
        "#### Test\n",
        "Test your model (Show accuracy by comparing the prediction VS the test label)"
      ]
    },
    {
      "cell_type": "code",
      "execution_count": null,
      "metadata": {
        "colab": {
          "base_uri": "https://localhost:8080/"
        },
        "id": "8McR5G0XPm3u",
        "outputId": "d34b7a4f-db70-496c-ee79-181a4821b673"
      },
      "outputs": [
        {
          "output_type": "stream",
          "name": "stdout",
          "text": [
            "313/313 [==============================] - 1s 2ms/step\n"
          ]
        },
        {
          "output_type": "execute_result",
          "data": {
            "text/plain": [
              "0.886"
            ]
          },
          "metadata": {},
          "execution_count": 92
        }
      ],
      "source": [
        "from sklearn.metrics import accuracy_score\n",
        "y_pred = model.predict(x_test)\n",
        "# WRITE YOUR CODE HERE\n",
        "y_pred = (y_pred > 0.5)\n",
        "accuracy_score(y_test, y_pred)"
      ]
    },
    {
      "cell_type": "markdown",
      "metadata": {
        "collapsed": false,
        "id": "C7vv4uxZPrfw"
      },
      "source": [
        "#### Model Evaluation\n",
        "Show the model evaluation by presenting the confusion metrix in a representative way<br>\n",
        "Read about confusion metrix visualization here: https://scikit-learn.org/stable/auto_examples/model_selection/plot_confusion_matrix.html"
      ]
    },
    {
      "cell_type": "code",
      "execution_count": null,
      "metadata": {
        "colab": {
          "base_uri": "https://localhost:8080/"
        },
        "id": "SZtG6tkiPrfx",
        "outputId": "c165ed1e-37d5-4cf5-a628-8fd94bbdb8f6"
      },
      "outputs": [
        {
          "output_type": "stream",
          "name": "stdout",
          "text": [
            "[[868   2  19  11   2   2  88   0   8   0]\n",
            " [  3 986   1   6   1   0   2   0   1   0]\n",
            " [ 40   2 856   4  54   0  43   0   1   0]\n",
            " [ 62   8   9 850  44   0  23   1   3   0]\n",
            " [ 37   0 115  14 791   0  39   0   4   0]\n",
            " [  2   0   0   0   0 945   0  44   1   8]\n",
            " [149   0  90  15  59   0 675   0  12   0]\n",
            " [  0   0   0   0   0   3   0 980   0  17]\n",
            " [ 10   0   0   1   2   1   3   4 979   0]\n",
            " [  0   0   0   0   0   6   1  39   0 954]]\n"
          ]
        }
      ],
      "source": [
        "from sklearn.metrics import confusion_matrix, ConfusionMatrixDisplay\n",
        "import itertools\n",
        "# WRITE YOUR CODE HERE\n",
        "cm = confusion_matrix(y_test.argmax(axis=1), y_pred.argmax(axis=1))\n",
        "print(cm)"
      ]
    },
    {
      "cell_type": "markdown",
      "source": [
        "#### Classification report"
      ],
      "metadata": {
        "id": "7HxZMzREdOmA"
      }
    },
    {
      "cell_type": "code",
      "source": [
        "from sklearn.metrics import classification_report\n",
        "print(classification_report(y_test,y_pred))"
      ],
      "metadata": {
        "colab": {
          "base_uri": "https://localhost:8080/"
        },
        "outputId": "ce453dba-97f4-486e-b042-4e06057c14cf",
        "id": "z7X9fKmHdOmA"
      },
      "execution_count": null,
      "outputs": [
        {
          "output_type": "stream",
          "name": "stdout",
          "text": [
            "              precision    recall  f1-score   support\n",
            "\n",
            "           0       0.86      0.84      0.85      1000\n",
            "           1       0.99      0.99      0.99      1000\n",
            "           2       0.79      0.86      0.82      1000\n",
            "           3       0.94      0.85      0.89      1000\n",
            "           4       0.83      0.79      0.81      1000\n",
            "           5       0.99      0.94      0.97      1000\n",
            "           6       0.77      0.68      0.72      1000\n",
            "           7       0.92      0.98      0.95      1000\n",
            "           8       0.97      0.98      0.97      1000\n",
            "           9       0.97      0.95      0.96      1000\n",
            "\n",
            "   micro avg       0.90      0.89      0.89     10000\n",
            "   macro avg       0.90      0.89      0.89     10000\n",
            "weighted avg       0.90      0.89      0.89     10000\n",
            " samples avg       0.89      0.89      0.89     10000\n",
            "\n"
          ]
        },
        {
          "output_type": "stream",
          "name": "stderr",
          "text": [
            "/usr/local/lib/python3.8/dist-packages/sklearn/metrics/_classification.py:1318: UndefinedMetricWarning: Precision and F-score are ill-defined and being set to 0.0 in samples with no predicted labels. Use `zero_division` parameter to control this behavior.\n",
            "  _warn_prf(average, modifier, msg_start, len(result))\n"
          ]
        }
      ]
    },
    {
      "cell_type": "markdown",
      "metadata": {
        "id": "V9zS6bU400ka"
      },
      "source": [
        "### Save Trained model (weights)\n"
      ]
    },
    {
      "cell_type": "code",
      "execution_count": null,
      "metadata": {
        "id": "P7GiP2dH00ka"
      },
      "outputs": [],
      "source": [
        "# SAVE THE TRAINED MODEL\n",
        "!mkdir -p /content/drive/MyDrive/saved_model\n",
        "model.save('/content/drive/MyDrive/saved_model/multiclass_model.h5')"
      ]
    },
    {
      "cell_type": "markdown",
      "metadata": {
        "id": "L0xlxiaj6xM4"
      },
      "source": [
        "## Test Environment (of part 2 only)\n",
        "This part is meant to show the tester how your model is performing. Keep in mind that the only cells he is going to run are the cells below.<br>\n",
        "(If there are libraries that need to be used please add their import. If there is a process that the data has to go through before it enters the model, don't forget to add it as well)."
      ]
    },
    {
      "cell_type": "markdown",
      "source": [
        "### import libraries"
      ],
      "metadata": {
        "id": "9_3CUbYAgkR-"
      }
    },
    {
      "cell_type": "code",
      "source": [
        "import tensorflow as tf\n",
        "from tensorflow import keras\n",
        "import numpy as np"
      ],
      "metadata": {
        "id": "fC7t3l0tgnFO"
      },
      "execution_count": null,
      "outputs": []
    },
    {
      "cell_type": "markdown",
      "metadata": {
        "id": "-rMJ1ucy7lKB"
      },
      "source": [
        "### Load trained model"
      ]
    },
    {
      "cell_type": "code",
      "source": [
        "!gdown --id 1-5i7uNKvy9idYRXG3lPnDP7k14jD1wI5\n",
        "!unzip /content/mid_sem_dl_part2.zip"
      ],
      "metadata": {
        "colab": {
          "base_uri": "https://localhost:8080/"
        },
        "id": "5oqVPCTvmN4G",
        "outputId": "e191cc31-4bc4-45e0-c462-41ad45551711"
      },
      "execution_count": null,
      "outputs": [
        {
          "output_type": "stream",
          "name": "stdout",
          "text": [
            "/usr/local/lib/python3.8/dist-packages/gdown/cli.py:127: FutureWarning: Option `--id` was deprecated in version 4.3.1 and will be removed in 5.0. You don't need to pass it anymore to use a file ID.\n",
            "  warnings.warn(\n",
            "Downloading...\n",
            "From: https://drive.google.com/uc?id=1-5i7uNKvy9idYRXG3lPnDP7k14jD1wI5\n",
            "To: /content/mid_sem_dl_part2.zip\n",
            "100% 11.3M/11.3M [00:00<00:00, 63.4MB/s]\n",
            "Archive:  /content/mid_sem_dl_part2.zip\n",
            "  inflating: multiclass_model.h5     \n",
            "  inflating: readme.md               \n"
          ]
        }
      ]
    },
    {
      "cell_type": "code",
      "execution_count": null,
      "metadata": {
        "id": "I27yHolJ7naT"
      },
      "outputs": [],
      "source": [
        "test_model = tf.keras.models.load_model('/content/multiclass_model.h5')"
      ]
    },
    {
      "cell_type": "markdown",
      "metadata": {
        "id": "5PSVr_J-_wmX"
      },
      "source": [
        "### Single prediction\n",
        "Let the tester examine your trained model on single predicttion test.<br>You will use the colab.file library to allow the tester to upload a single image of an item of clothing (28x28 image).<br>\n",
        "Then build a function that takes this image, loads the weights of the trained model (If you haven't loaded it before) and prints a prediction."
      ]
    },
    {
      "cell_type": "code",
      "execution_count": null,
      "metadata": {
        "colab": {
          "base_uri": "https://localhost:8080/",
          "height": 92
        },
        "id": "WGSD04i68JW-",
        "outputId": "644ab6fc-ea95-404e-a3e9-dc9367259d49"
      },
      "outputs": [
        {
          "output_type": "display_data",
          "data": {
            "text/plain": [
              "<IPython.core.display.HTML object>"
            ],
            "text/html": [
              "\n",
              "     <input type=\"file\" id=\"files-3cf8f241-f495-46b0-aec6-b637b860fa6a\" name=\"files[]\" multiple disabled\n",
              "        style=\"border:none\" />\n",
              "     <output id=\"result-3cf8f241-f495-46b0-aec6-b637b860fa6a\">\n",
              "      Upload widget is only available when the cell has been executed in the\n",
              "      current browser session. Please rerun this cell to enable.\n",
              "      </output>\n",
              "      <script>// Copyright 2017 Google LLC\n",
              "//\n",
              "// Licensed under the Apache License, Version 2.0 (the \"License\");\n",
              "// you may not use this file except in compliance with the License.\n",
              "// You may obtain a copy of the License at\n",
              "//\n",
              "//      http://www.apache.org/licenses/LICENSE-2.0\n",
              "//\n",
              "// Unless required by applicable law or agreed to in writing, software\n",
              "// distributed under the License is distributed on an \"AS IS\" BASIS,\n",
              "// WITHOUT WARRANTIES OR CONDITIONS OF ANY KIND, either express or implied.\n",
              "// See the License for the specific language governing permissions and\n",
              "// limitations under the License.\n",
              "\n",
              "/**\n",
              " * @fileoverview Helpers for google.colab Python module.\n",
              " */\n",
              "(function(scope) {\n",
              "function span(text, styleAttributes = {}) {\n",
              "  const element = document.createElement('span');\n",
              "  element.textContent = text;\n",
              "  for (const key of Object.keys(styleAttributes)) {\n",
              "    element.style[key] = styleAttributes[key];\n",
              "  }\n",
              "  return element;\n",
              "}\n",
              "\n",
              "// Max number of bytes which will be uploaded at a time.\n",
              "const MAX_PAYLOAD_SIZE = 100 * 1024;\n",
              "\n",
              "function _uploadFiles(inputId, outputId) {\n",
              "  const steps = uploadFilesStep(inputId, outputId);\n",
              "  const outputElement = document.getElementById(outputId);\n",
              "  // Cache steps on the outputElement to make it available for the next call\n",
              "  // to uploadFilesContinue from Python.\n",
              "  outputElement.steps = steps;\n",
              "\n",
              "  return _uploadFilesContinue(outputId);\n",
              "}\n",
              "\n",
              "// This is roughly an async generator (not supported in the browser yet),\n",
              "// where there are multiple asynchronous steps and the Python side is going\n",
              "// to poll for completion of each step.\n",
              "// This uses a Promise to block the python side on completion of each step,\n",
              "// then passes the result of the previous step as the input to the next step.\n",
              "function _uploadFilesContinue(outputId) {\n",
              "  const outputElement = document.getElementById(outputId);\n",
              "  const steps = outputElement.steps;\n",
              "\n",
              "  const next = steps.next(outputElement.lastPromiseValue);\n",
              "  return Promise.resolve(next.value.promise).then((value) => {\n",
              "    // Cache the last promise value to make it available to the next\n",
              "    // step of the generator.\n",
              "    outputElement.lastPromiseValue = value;\n",
              "    return next.value.response;\n",
              "  });\n",
              "}\n",
              "\n",
              "/**\n",
              " * Generator function which is called between each async step of the upload\n",
              " * process.\n",
              " * @param {string} inputId Element ID of the input file picker element.\n",
              " * @param {string} outputId Element ID of the output display.\n",
              " * @return {!Iterable<!Object>} Iterable of next steps.\n",
              " */\n",
              "function* uploadFilesStep(inputId, outputId) {\n",
              "  const inputElement = document.getElementById(inputId);\n",
              "  inputElement.disabled = false;\n",
              "\n",
              "  const outputElement = document.getElementById(outputId);\n",
              "  outputElement.innerHTML = '';\n",
              "\n",
              "  const pickedPromise = new Promise((resolve) => {\n",
              "    inputElement.addEventListener('change', (e) => {\n",
              "      resolve(e.target.files);\n",
              "    });\n",
              "  });\n",
              "\n",
              "  const cancel = document.createElement('button');\n",
              "  inputElement.parentElement.appendChild(cancel);\n",
              "  cancel.textContent = 'Cancel upload';\n",
              "  const cancelPromise = new Promise((resolve) => {\n",
              "    cancel.onclick = () => {\n",
              "      resolve(null);\n",
              "    };\n",
              "  });\n",
              "\n",
              "  // Wait for the user to pick the files.\n",
              "  const files = yield {\n",
              "    promise: Promise.race([pickedPromise, cancelPromise]),\n",
              "    response: {\n",
              "      action: 'starting',\n",
              "    }\n",
              "  };\n",
              "\n",
              "  cancel.remove();\n",
              "\n",
              "  // Disable the input element since further picks are not allowed.\n",
              "  inputElement.disabled = true;\n",
              "\n",
              "  if (!files) {\n",
              "    return {\n",
              "      response: {\n",
              "        action: 'complete',\n",
              "      }\n",
              "    };\n",
              "  }\n",
              "\n",
              "  for (const file of files) {\n",
              "    const li = document.createElement('li');\n",
              "    li.append(span(file.name, {fontWeight: 'bold'}));\n",
              "    li.append(span(\n",
              "        `(${file.type || 'n/a'}) - ${file.size} bytes, ` +\n",
              "        `last modified: ${\n",
              "            file.lastModifiedDate ? file.lastModifiedDate.toLocaleDateString() :\n",
              "                                    'n/a'} - `));\n",
              "    const percent = span('0% done');\n",
              "    li.appendChild(percent);\n",
              "\n",
              "    outputElement.appendChild(li);\n",
              "\n",
              "    const fileDataPromise = new Promise((resolve) => {\n",
              "      const reader = new FileReader();\n",
              "      reader.onload = (e) => {\n",
              "        resolve(e.target.result);\n",
              "      };\n",
              "      reader.readAsArrayBuffer(file);\n",
              "    });\n",
              "    // Wait for the data to be ready.\n",
              "    let fileData = yield {\n",
              "      promise: fileDataPromise,\n",
              "      response: {\n",
              "        action: 'continue',\n",
              "      }\n",
              "    };\n",
              "\n",
              "    // Use a chunked sending to avoid message size limits. See b/62115660.\n",
              "    let position = 0;\n",
              "    do {\n",
              "      const length = Math.min(fileData.byteLength - position, MAX_PAYLOAD_SIZE);\n",
              "      const chunk = new Uint8Array(fileData, position, length);\n",
              "      position += length;\n",
              "\n",
              "      const base64 = btoa(String.fromCharCode.apply(null, chunk));\n",
              "      yield {\n",
              "        response: {\n",
              "          action: 'append',\n",
              "          file: file.name,\n",
              "          data: base64,\n",
              "        },\n",
              "      };\n",
              "\n",
              "      let percentDone = fileData.byteLength === 0 ?\n",
              "          100 :\n",
              "          Math.round((position / fileData.byteLength) * 100);\n",
              "      percent.textContent = `${percentDone}% done`;\n",
              "\n",
              "    } while (position < fileData.byteLength);\n",
              "  }\n",
              "\n",
              "  // All done.\n",
              "  yield {\n",
              "    response: {\n",
              "      action: 'complete',\n",
              "    }\n",
              "  };\n",
              "}\n",
              "\n",
              "scope.google = scope.google || {};\n",
              "scope.google.colab = scope.google.colab || {};\n",
              "scope.google.colab._files = {\n",
              "  _uploadFiles,\n",
              "  _uploadFilesContinue,\n",
              "};\n",
              "})(self);\n",
              "</script> "
            ]
          },
          "metadata": {}
        },
        {
          "output_type": "stream",
          "name": "stdout",
          "text": [
            "Saving Sandal_5.npy to Sandal_5.npy\n",
            "User uploaded file \"Sandal_5.npy\" with length 912 bytes\n"
          ]
        }
      ],
      "source": [
        "from numpy import load as load_npy\n",
        "from google.colab import files\n",
        "uploaded = files.upload()\n",
        "for fn in uploaded.keys():\n",
        "  print(f'User uploaded file \"{fn}\" with length {len(uploaded[fn])} bytes')"
      ]
    },
    {
      "cell_type": "code",
      "execution_count": null,
      "metadata": {
        "id": "Y7SBK56880aY",
        "colab": {
          "base_uri": "https://localhost:8080/"
        },
        "outputId": "289db07a-a3b8-4598-ee02-fd5ba839073d"
      },
      "outputs": [
        {
          "output_type": "stream",
          "name": "stdout",
          "text": [
            "(28, 28)\n",
            "1/1 [==============================] - 3s 3s/step\n",
            "class: 5, item: Sandal\n"
          ]
        }
      ],
      "source": [
        "# WRITE HERE THE TEST \n",
        "clothes = {0: 'T-shirt', 1: 'Trouser', 2: 'pullover', 3: 'Dress', 4: 'Coat', 5: 'Sandal', 6: 'Shirt', 7: 'Sneaker',\n",
        "           8: 'Bag', 9: 'Ankle boot'}\n",
        "filename = next(iter(uploaded))\n",
        "img = np.load(\"/content/\" + filename).astype(\"float32\")\n",
        "img /= 255\n",
        "print(img.shape)\n",
        "result = test_model.predict(img.reshape(1,784))\n",
        "print(f\"class: {np.argmax(result)}, item: {clothes.get(np.argmax(result))}\")"
      ]
    }
  ],
  "metadata": {
    "accelerator": "GPU",
    "colab": {
      "collapsed_sections": [
        "Dn9kBnoOkJ7B",
        "pcLzuIa3kOQ_",
        "aRSAP7VUEAzU"
      ],
      "provenance": []
    },
    "kernelspec": {
      "display_name": "Python 3",
      "name": "python3"
    },
    "language_info": {
      "name": "python"
    }
  },
  "nbformat": 4,
  "nbformat_minor": 0
}